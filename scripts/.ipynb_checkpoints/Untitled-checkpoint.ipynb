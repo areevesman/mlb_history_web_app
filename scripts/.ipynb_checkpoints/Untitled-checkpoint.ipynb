{
 "cells": [
  {
   "cell_type": "markdown",
   "metadata": {},
   "source": [
    "## Team ID's\n",
    "\n",
    "The code in the cells below scrapes the Team ID's table from https://www.baseball-reference.com/about/team_IDs.shtml. It saves the data into a csv named `teamIDs.csv`."
   ]
  },
  {
   "cell_type": "markdown",
   "metadata": {},
   "source": [
    "## Import Modules"
   ]
  },
  {
   "cell_type": "code",
   "execution_count": 2,
   "metadata": {},
   "outputs": [],
   "source": [
    "from bs4 import BeautifulSoup, Comment\n",
    "import urllib.request"
   ]
  },
  {
   "cell_type": "markdown",
   "metadata": {},
   "source": [
    "## Set up data directory \n",
    "\n",
    "A folder to hold the data. _**This will need to be specified by the user since the data is written to the local machine.**_"
   ]
  },
  {
   "cell_type": "code",
   "execution_count": 3,
   "metadata": {},
   "outputs": [],
   "source": [
    "data_directory = '/Users/areevesman/Documents/github/mlb_history_web_app/data/'"
   ]
  },
  {
   "cell_type": "code",
   "execution_count": 4,
   "metadata": {},
   "outputs": [],
   "source": [
    "#read in html code for year url\n",
    "soup = BeautifulSoup(urllib.request.urlopen('https://www.baseball-reference.com/about/team_IDs.shtml').read(),\"lxml\")\n",
    "\n",
    "#get just the standings table\n",
    "tableStats = soup.find(\"table\")\n",
    "\n",
    "f = open(data_directory+'teamIDs.csv', 'w')\n",
    "f.write('Franchise_ID,Team_ID,Full_Team_Name,First_Year'+'\\n')\n",
    "\n",
    "for row in tableStats.find_all('tr')[1:]:\n",
    "    \n",
    "    cols = row.find_all('td')\n",
    "    \n",
    "    if cols[4].string.strip() == \"Present\":\n",
    "        \n",
    "        franchise_id = cols[0].string.strip()\n",
    "        team_id = cols[1].string.strip()\n",
    "        full_name = cols[2].string.strip()\n",
    "        first_year = cols[3].string.strip()\n",
    "        last_year = cols[4].string.strip()\n",
    "\n",
    "        f.write(franchise_id+','+team_id+','+full_name+',')\n",
    "        if franchise_id != \"WSN\":\n",
    "            f.write(first_year+'\\n')\n",
    "        else:\n",
    "            f.write(first_year)    \n",
    "        \n",
    "f.close()"
   ]
  }
 ],
 "metadata": {
  "kernelspec": {
   "display_name": "Python 3",
   "language": "python",
   "name": "python3"
  },
  "language_info": {
   "codemirror_mode": {
    "name": "ipython",
    "version": 3
   },
   "file_extension": ".py",
   "mimetype": "text/x-python",
   "name": "python",
   "nbconvert_exporter": "python",
   "pygments_lexer": "ipython3",
   "version": "3.6.4"
  }
 },
 "nbformat": 4,
 "nbformat_minor": 2
}
